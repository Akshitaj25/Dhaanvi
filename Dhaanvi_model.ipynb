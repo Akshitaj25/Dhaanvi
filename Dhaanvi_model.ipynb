{
  "nbformat": 4,
  "nbformat_minor": 0,
  "metadata": {
    "colab": {
      "provenance": [],
      "gpuType": "T4"
    },
    "kernelspec": {
      "name": "python3",
      "display_name": "Python 3"
    },
    "language_info": {
      "name": "python"
    },
    "accelerator": "GPU"
  },
  "cells": [
    {
      "cell_type": "code",
      "execution_count": 1,
      "metadata": {
        "id": "hEUyXkT30kgu"
      },
      "outputs": [],
      "source": [
        "import os\n",
        "import tensorflow as tf\n",
        "from tensorflow.keras.applications.mobilenet_v2 import MobileNetV2, preprocess_input\n",
        "from tensorflow.keras.layers import Dense, Conv2D, GlobalAvgPool2D, Input\n",
        "from tensorflow.keras import callbacks, optimizers\n",
        "from tensorflow.keras.preprocessing.image import load_img, ImageDataGenerator\n",
        "import numpy as np\n",
        "from google.colab import drive\n"
      ]
    },
    {
      "cell_type": "code",
      "source": [
        "drive.mount('/content/drive')"
      ],
      "metadata": {
        "colab": {
          "base_uri": "https://localhost:8080/"
        },
        "id": "yD-n97rh4r0t",
        "outputId": "3ece7702-8095-4267-8acd-a952797762a2"
      },
      "execution_count": 2,
      "outputs": [
        {
          "output_type": "stream",
          "name": "stdout",
          "text": [
            "Drive already mounted at /content/drive; to attempt to forcibly remount, call drive.mount(\"/content/drive\", force_remount=True).\n"
          ]
        }
      ]
    },
    {
      "cell_type": "code",
      "source": [
        "%cd drive/MyDrive/RiceLeafsDisease/"
      ],
      "metadata": {
        "colab": {
          "base_uri": "https://localhost:8080/"
        },
        "id": "e77YWU7F5E1I",
        "outputId": "c3863144-2638-40f9-df56-d4bce099fcf8"
      },
      "execution_count": 5,
      "outputs": [
        {
          "output_type": "stream",
          "name": "stdout",
          "text": [
            "/content/drive/MyDrive/RiceLeafsDisease\n"
          ]
        }
      ]
    },
    {
      "cell_type": "code",
      "source": [],
      "metadata": {
        "id": "zbM8Dx7B7-35"
      },
      "execution_count": 3,
      "outputs": []
    },
    {
      "cell_type": "code",
      "source": [
        "def img_Data(dir_path,target_size,batch,class_lst,preprocessing):\n",
        "  if preprocessing:\n",
        "    gen_object = ImageDataGenerator(preprocessing_function=preprocessing)\n",
        "  else:\n",
        "    gen_object = ImageDataGenerator()\n",
        "\n",
        "  return(gen_object.flow_from_directory(dir_path,target_size=target_size,\n",
        "                                          batch_size=batch,class_mode='sparse',\n",
        "                                   classes=class_lst, shuffle=True))"
      ],
      "metadata": {
        "id": "DVRYYxCu8gW5"
      },
      "execution_count": 6,
      "outputs": []
    },
    {
      "cell_type": "code",
      "source": [
        "train_data_gen = img_Data(\"train\",(224,224),150,os.listdir(\"train\"),preprocess_input)\n",
        "valid_data_gen = img_Data(\"test\",(224,224),150,os.listdir(\"test\"),preprocess_input)"
      ],
      "metadata": {
        "colab": {
          "base_uri": "https://localhost:8080/"
        },
        "id": "QhHZnXI1_Q0Z",
        "outputId": "27320f9c-549a-4351-d37b-face3813f18d"
      },
      "execution_count": 7,
      "outputs": [
        {
          "output_type": "stream",
          "name": "stdout",
          "text": [
            "Found 2105 images belonging to 6 classes.\n",
            "Found 528 images belonging to 6 classes.\n"
          ]
        }
      ]
    },
    {
      "cell_type": "code",
      "source": [
        "base_model = tf.keras.applications.mobilenet_v2.MobileNetV2(\n",
        "    input_shape=(224,224,3),\n",
        "    alpha=1.0, include_top=False, weights='imagenet',\n",
        "    input_tensor=None, pooling=None, classes=1000,\n",
        "    classifier_activation='softmax')"
      ],
      "metadata": {
        "colab": {
          "base_uri": "https://localhost:8080/"
        },
        "id": "GICmAdLHCSML",
        "outputId": "1cdaf0cc-bd31-453d-d4d0-4d7753d75cde"
      },
      "execution_count": 8,
      "outputs": [
        {
          "output_type": "stream",
          "name": "stdout",
          "text": [
            "Downloading data from https://storage.googleapis.com/tensorflow/keras-applications/mobilenet_v2/mobilenet_v2_weights_tf_dim_ordering_tf_kernels_1.0_224_no_top.h5\n",
            "9406464/9406464 [==============================] - 0s 0us/step\n"
          ]
        }
      ]
    },
    {
      "cell_type": "code",
      "source": [
        "base_model.trainable = False"
      ],
      "metadata": {
        "id": "-ZGyCy_SC6o4"
      },
      "execution_count": 9,
      "outputs": []
    },
    {
      "cell_type": "code",
      "source": [
        "model = tf.keras.models.Sequential()\n",
        "model.add(base_model)\n",
        "model.add(GlobalAvgPool2D())\n",
        "model.add(Dense(1024,activation='relu'))\n",
        "model.add(Dense(10,activation='softmax'))\n",
        "\n",
        "model.compile(optimizer='adam',loss='sparse_categorical_crossentropy',\n",
        "              metrics=['accuracy'])"
      ],
      "metadata": {
        "id": "6EWNIWv-A2uV"
      },
      "execution_count": 10,
      "outputs": []
    },
    {
      "cell_type": "code",
      "source": [
        "elst = callbacks.EarlyStopping(monitor= 'val_loss',patience=5,mode='min')\n",
        "save_ck = callbacks.ModelCheckpoint('.mdl_wt.hdf5', save_best_only=True, monitor='val_loss',mode='min')"
      ],
      "metadata": {
        "id": "P9D81CsQEVmK"
      },
      "execution_count": 11,
      "outputs": []
    },
    {
      "cell_type": "code",
      "source": [
        "model.fit(train_data_gen,batch_size=150,validation_data=valid_data_gen,\n",
        "          callbacks=[elst,save_ck],epochs=10)"
      ],
      "metadata": {
        "colab": {
          "base_uri": "https://localhost:8080/"
        },
        "id": "ioB0AlEvH4xo",
        "outputId": "ba0dd1ca-8882-4aaa-beb2-29d487cd30ee"
      },
      "execution_count": 12,
      "outputs": [
        {
          "output_type": "stream",
          "name": "stdout",
          "text": [
            "Epoch 1/10\n",
            "15/15 [==============================] - 537s 35s/step - loss: 0.8725 - accuracy: 0.6931 - val_loss: 4.4243 - val_accuracy: 0.2178\n",
            "Epoch 2/10\n",
            "15/15 [==============================] - 87s 6s/step - loss: 0.3035 - accuracy: 0.8912 - val_loss: 5.2574 - val_accuracy: 0.1932\n",
            "Epoch 3/10\n",
            "15/15 [==============================] - 83s 5s/step - loss: 0.1963 - accuracy: 0.9325 - val_loss: 5.8286 - val_accuracy: 0.1837\n",
            "Epoch 4/10\n",
            "15/15 [==============================] - 83s 5s/step - loss: 0.1524 - accuracy: 0.9411 - val_loss: 6.0622 - val_accuracy: 0.2254\n",
            "Epoch 5/10\n",
            "15/15 [==============================] - 83s 6s/step - loss: 0.1252 - accuracy: 0.9601 - val_loss: 6.2588 - val_accuracy: 0.1913\n",
            "Epoch 6/10\n",
            "15/15 [==============================] - 83s 6s/step - loss: 0.0895 - accuracy: 0.9672 - val_loss: 6.5956 - val_accuracy: 0.1932\n"
          ]
        },
        {
          "output_type": "execute_result",
          "data": {
            "text/plain": [
              "<keras.callbacks.History at 0x7f4aa026a5c0>"
            ]
          },
          "metadata": {},
          "execution_count": 12
        }
      ]
    }
  ]
}